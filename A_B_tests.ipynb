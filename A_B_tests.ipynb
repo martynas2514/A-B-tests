{
  "nbformat": 4,
  "nbformat_minor": 0,
  "metadata": {
    "colab": {
      "name": "A/B tests.ipynb",
      "provenance": [],
      "authorship_tag": "ABX9TyPJ1LJWHCg9o/skbqaRQ83Q",
      "include_colab_link": true
    },
    "kernelspec": {
      "name": "python3",
      "display_name": "Python 3"
    },
    "language_info": {
      "name": "python"
    }
  },
  "cells": [
    {
      "cell_type": "markdown",
      "metadata": {
        "id": "view-in-github",
        "colab_type": "text"
      },
      "source": [
        "<a href=\"https://colab.research.google.com/github/martynas2514/A-B-tests/blob/main/A_B_tests.ipynb\" target=\"_parent\"><img src=\"https://colab.research.google.com/assets/colab-badge.svg\" alt=\"Open In Colab\"/></a>"
      ]
    },
    {
      "cell_type": "markdown",
      "source": [
        "# A/B tests "
      ],
      "metadata": {
        "id": "TLsjvwNczvLC"
      }
    },
    {
      "cell_type": "markdown",
      "source": [
        "A/B testing is a shorthand for a simple randomized controlled experiment, in which two samples (A and B) of a single vector-variable are compared.[1] These values are similar except for one variation which might affect a user's behavior. A/B tests are widely considered the simplest form of controlled experiment.\n",
        "\n",
        "Version A might be a version used at present (thus forming the control group), while version B is modified in some respect vs. A (thus forming the treatment group). For instance, on an e-commerce website the purchase funnel is typically a good candidate for A/B testing, since even marginal-decreases in drop-off rates can represent a significant gain in sales. Significant improvements can be sometimes seen through testing elements like copy text, layouts, images and colors, but not always. In these tests, users only see one of two versions, since the goal is to discover which of the two versions is preferable.\n",
        "\n",
        "source: https://en.wikipedia.org/wiki/A/B_testing"
      ],
      "metadata": {
        "id": "twGD14HYzzP_"
      }
    },
    {
      "cell_type": "markdown",
      "source": [
        "## Data set \n",
        "\n",
        "for this project kaggle dataset will be used: https://www.kaggle.com/datasets/faviovaz/marketing-ab-testing?resource=download"
      ],
      "metadata": {
        "id": "cFJTxHoH0DOx"
      }
    },
    {
      "cell_type": "code",
      "source": [
        "import pandas as pd \n",
        "\n",
        "df = pd.read_csv(\"../content/marketing_AB.csv\",index_col=0)"
      ],
      "metadata": {
        "id": "EF0e2LZ72pKj",
        "colab": {
          "base_uri": "https://localhost:8080/"
        },
        "outputId": "2f3897fb-9cb4-48a9-faae-cbe1330dc204"
      },
      "execution_count": null,
      "outputs": [
        {
          "output_type": "stream",
          "name": "stderr",
          "text": [
            "/usr/local/lib/python3.7/dist-packages/IPython/core/interactiveshell.py:2882: DtypeWarning: Columns (3) have mixed types.Specify dtype option on import or set low_memory=False.\n",
            "  exec(code_obj, self.user_global_ns, self.user_ns)\n"
          ]
        }
      ]
    },
    {
      "cell_type": "code",
      "source": [
        "df.head()"
      ],
      "metadata": {
        "colab": {
          "base_uri": "https://localhost:8080/",
          "height": 206
        },
        "id": "L1X4jn1d6YW-",
        "outputId": "71d705ad-7fa4-4219-c068-8da80499056d"
      },
      "execution_count": null,
      "outputs": [
        {
          "output_type": "execute_result",
          "data": {
            "text/plain": [
              "   user id test group converted  total ads most ads day  most ads hour\n",
              "0  1069124         ad     False      130.0       Monday           20.0\n",
              "1  1119715         ad     False       93.0      Tuesday           22.0\n",
              "2  1144181         ad     False       21.0      Tuesday           18.0\n",
              "3  1435133         ad     False      355.0      Tuesday           10.0\n",
              "4  1015700         ad     False      276.0       Friday           14.0"
            ],
            "text/html": [
              "\n",
              "  <div id=\"df-1c73a351-2ad0-418f-9061-0eb7887ad730\">\n",
              "    <div class=\"colab-df-container\">\n",
              "      <div>\n",
              "<style scoped>\n",
              "    .dataframe tbody tr th:only-of-type {\n",
              "        vertical-align: middle;\n",
              "    }\n",
              "\n",
              "    .dataframe tbody tr th {\n",
              "        vertical-align: top;\n",
              "    }\n",
              "\n",
              "    .dataframe thead th {\n",
              "        text-align: right;\n",
              "    }\n",
              "</style>\n",
              "<table border=\"1\" class=\"dataframe\">\n",
              "  <thead>\n",
              "    <tr style=\"text-align: right;\">\n",
              "      <th></th>\n",
              "      <th>user id</th>\n",
              "      <th>test group</th>\n",
              "      <th>converted</th>\n",
              "      <th>total ads</th>\n",
              "      <th>most ads day</th>\n",
              "      <th>most ads hour</th>\n",
              "    </tr>\n",
              "  </thead>\n",
              "  <tbody>\n",
              "    <tr>\n",
              "      <th>0</th>\n",
              "      <td>1069124</td>\n",
              "      <td>ad</td>\n",
              "      <td>False</td>\n",
              "      <td>130.0</td>\n",
              "      <td>Monday</td>\n",
              "      <td>20.0</td>\n",
              "    </tr>\n",
              "    <tr>\n",
              "      <th>1</th>\n",
              "      <td>1119715</td>\n",
              "      <td>ad</td>\n",
              "      <td>False</td>\n",
              "      <td>93.0</td>\n",
              "      <td>Tuesday</td>\n",
              "      <td>22.0</td>\n",
              "    </tr>\n",
              "    <tr>\n",
              "      <th>2</th>\n",
              "      <td>1144181</td>\n",
              "      <td>ad</td>\n",
              "      <td>False</td>\n",
              "      <td>21.0</td>\n",
              "      <td>Tuesday</td>\n",
              "      <td>18.0</td>\n",
              "    </tr>\n",
              "    <tr>\n",
              "      <th>3</th>\n",
              "      <td>1435133</td>\n",
              "      <td>ad</td>\n",
              "      <td>False</td>\n",
              "      <td>355.0</td>\n",
              "      <td>Tuesday</td>\n",
              "      <td>10.0</td>\n",
              "    </tr>\n",
              "    <tr>\n",
              "      <th>4</th>\n",
              "      <td>1015700</td>\n",
              "      <td>ad</td>\n",
              "      <td>False</td>\n",
              "      <td>276.0</td>\n",
              "      <td>Friday</td>\n",
              "      <td>14.0</td>\n",
              "    </tr>\n",
              "  </tbody>\n",
              "</table>\n",
              "</div>\n",
              "      <button class=\"colab-df-convert\" onclick=\"convertToInteractive('df-1c73a351-2ad0-418f-9061-0eb7887ad730')\"\n",
              "              title=\"Convert this dataframe to an interactive table.\"\n",
              "              style=\"display:none;\">\n",
              "        \n",
              "  <svg xmlns=\"http://www.w3.org/2000/svg\" height=\"24px\"viewBox=\"0 0 24 24\"\n",
              "       width=\"24px\">\n",
              "    <path d=\"M0 0h24v24H0V0z\" fill=\"none\"/>\n",
              "    <path d=\"M18.56 5.44l.94 2.06.94-2.06 2.06-.94-2.06-.94-.94-2.06-.94 2.06-2.06.94zm-11 1L8.5 8.5l.94-2.06 2.06-.94-2.06-.94L8.5 2.5l-.94 2.06-2.06.94zm10 10l.94 2.06.94-2.06 2.06-.94-2.06-.94-.94-2.06-.94 2.06-2.06.94z\"/><path d=\"M17.41 7.96l-1.37-1.37c-.4-.4-.92-.59-1.43-.59-.52 0-1.04.2-1.43.59L10.3 9.45l-7.72 7.72c-.78.78-.78 2.05 0 2.83L4 21.41c.39.39.9.59 1.41.59.51 0 1.02-.2 1.41-.59l7.78-7.78 2.81-2.81c.8-.78.8-2.07 0-2.86zM5.41 20L4 18.59l7.72-7.72 1.47 1.35L5.41 20z\"/>\n",
              "  </svg>\n",
              "      </button>\n",
              "      \n",
              "  <style>\n",
              "    .colab-df-container {\n",
              "      display:flex;\n",
              "      flex-wrap:wrap;\n",
              "      gap: 12px;\n",
              "    }\n",
              "\n",
              "    .colab-df-convert {\n",
              "      background-color: #E8F0FE;\n",
              "      border: none;\n",
              "      border-radius: 50%;\n",
              "      cursor: pointer;\n",
              "      display: none;\n",
              "      fill: #1967D2;\n",
              "      height: 32px;\n",
              "      padding: 0 0 0 0;\n",
              "      width: 32px;\n",
              "    }\n",
              "\n",
              "    .colab-df-convert:hover {\n",
              "      background-color: #E2EBFA;\n",
              "      box-shadow: 0px 1px 2px rgba(60, 64, 67, 0.3), 0px 1px 3px 1px rgba(60, 64, 67, 0.15);\n",
              "      fill: #174EA6;\n",
              "    }\n",
              "\n",
              "    [theme=dark] .colab-df-convert {\n",
              "      background-color: #3B4455;\n",
              "      fill: #D2E3FC;\n",
              "    }\n",
              "\n",
              "    [theme=dark] .colab-df-convert:hover {\n",
              "      background-color: #434B5C;\n",
              "      box-shadow: 0px 1px 3px 1px rgba(0, 0, 0, 0.15);\n",
              "      filter: drop-shadow(0px 1px 2px rgba(0, 0, 0, 0.3));\n",
              "      fill: #FFFFFF;\n",
              "    }\n",
              "  </style>\n",
              "\n",
              "      <script>\n",
              "        const buttonEl =\n",
              "          document.querySelector('#df-1c73a351-2ad0-418f-9061-0eb7887ad730 button.colab-df-convert');\n",
              "        buttonEl.style.display =\n",
              "          google.colab.kernel.accessAllowed ? 'block' : 'none';\n",
              "\n",
              "        async function convertToInteractive(key) {\n",
              "          const element = document.querySelector('#df-1c73a351-2ad0-418f-9061-0eb7887ad730');\n",
              "          const dataTable =\n",
              "            await google.colab.kernel.invokeFunction('convertToInteractive',\n",
              "                                                     [key], {});\n",
              "          if (!dataTable) return;\n",
              "\n",
              "          const docLinkHtml = 'Like what you see? Visit the ' +\n",
              "            '<a target=\"_blank\" href=https://colab.research.google.com/notebooks/data_table.ipynb>data table notebook</a>'\n",
              "            + ' to learn more about interactive tables.';\n",
              "          element.innerHTML = '';\n",
              "          dataTable['output_type'] = 'display_data';\n",
              "          await google.colab.output.renderOutput(dataTable, element);\n",
              "          const docLink = document.createElement('div');\n",
              "          docLink.innerHTML = docLinkHtml;\n",
              "          element.appendChild(docLink);\n",
              "        }\n",
              "      </script>\n",
              "    </div>\n",
              "  </div>\n",
              "  "
            ]
          },
          "metadata": {},
          "execution_count": 2
        }
      ]
    },
    {
      "cell_type": "markdown",
      "source": [
        "lets fix dtypes "
      ],
      "metadata": {
        "id": "erca-hDr7K8s"
      }
    },
    {
      "cell_type": "code",
      "source": [
        "df[[\"user id\",\"most ads day\",\"test group\"]] = df[[\"user id\",\"most ads day\",\"test group\"]].astype(\"category\")"
      ],
      "metadata": {
        "id": "E-ReFLYg7Sl_"
      },
      "execution_count": null,
      "outputs": []
    },
    {
      "cell_type": "code",
      "source": [
        "df.dtypes"
      ],
      "metadata": {
        "colab": {
          "base_uri": "https://localhost:8080/"
        },
        "id": "u823RiBI7Jpe",
        "outputId": "3e17abc9-8c15-40d7-b39e-55b6eeed0ea3"
      },
      "execution_count": null,
      "outputs": [
        {
          "output_type": "execute_result",
          "data": {
            "text/plain": [
              "user id          category\n",
              "test group       category\n",
              "converted          object\n",
              "total ads         float64\n",
              "most ads day     category\n",
              "most ads hour     float64\n",
              "dtype: object"
            ]
          },
          "metadata": {},
          "execution_count": 4
        }
      ]
    },
    {
      "cell_type": "markdown",
      "source": [
        "## data analysis"
      ],
      "metadata": {
        "id": "XOz1vfJkKQlN"
      }
    },
    {
      "cell_type": "markdown",
      "source": [
        "user id - User ID (unique) \n",
        "\n",
        "\n"
      ],
      "metadata": {
        "id": "lTey9iq5-K3l"
      }
    },
    {
      "cell_type": "code",
      "source": [
        "df[\"user id\"].value_counts()\n"
      ],
      "metadata": {
        "colab": {
          "base_uri": "https://localhost:8080/"
        },
        "id": "Gx_EW1dC00p1",
        "outputId": "9a4d8dd8-18d8-4a7e-d655-76d2b7fd9042"
      },
      "execution_count": null,
      "outputs": [
        {
          "output_type": "execute_result",
          "data": {
            "text/plain": [
              "900000     1\n",
              "1427238    1\n",
              "1427232    1\n",
              "1427233    1\n",
              "1427234    1\n",
              "          ..\n",
              "1199964    1\n",
              "1199963    1\n",
              "1199962    1\n",
              "1199961    1\n",
              "1654483    1\n",
              "Name: user id, Length: 588101, dtype: int64"
            ]
          },
          "metadata": {},
          "execution_count": 8
        }
      ]
    },
    {
      "cell_type": "markdown",
      "source": [
        "test group: If \"ad\" the person saw the advertisement, if \"psa\" they only saw the public service announcement"
      ],
      "metadata": {
        "id": "dXo0GFlDK6S8"
      }
    },
    {
      "cell_type": "code",
      "source": [
        "df[\"test group\"].value_counts()"
      ],
      "metadata": {
        "colab": {
          "base_uri": "https://localhost:8080/"
        },
        "id": "lj8HbLpi_eU7",
        "outputId": "ede5b49c-848f-4d68-a794-31d0b62ce422"
      },
      "execution_count": null,
      "outputs": [
        {
          "output_type": "execute_result",
          "data": {
            "text/plain": [
              "ad     564577\n",
              "psa     23524\n",
              "Name: test group, dtype: int64"
            ]
          },
          "metadata": {},
          "execution_count": 34
        }
      ]
    },
    {
      "cell_type": "code",
      "source": [
        "df[\"test group\"].hist()"
      ],
      "metadata": {
        "colab": {
          "base_uri": "https://localhost:8080/",
          "height": 367
        },
        "id": "8pF6YCfN4PCh",
        "outputId": "d09eee67-cca9-49c8-b95d-f516ae87419b"
      },
      "execution_count": null,
      "outputs": [
        {
          "output_type": "execute_result",
          "data": {
            "text/plain": [
              "<matplotlib.axes._subplots.AxesSubplot at 0x7f565c17ea90>"
            ]
          },
          "metadata": {},
          "execution_count": 30
        },
        {
          "output_type": "display_data",
          "data": {
            "text/plain": [
              "<Figure size 576x396 with 1 Axes>"
            ],
            "image/png": "[encoded data removed]"
          },
          "metadata": {}
        }
      ]
    },
    {
      "cell_type": "markdown",
      "source": [
        "converted: If a person bought the product then True, else is False"
      ],
      "metadata": {
        "id": "tc7shb89LClL"
      }
    },
    {
      "cell_type": "code",
      "source": [
        "df[\"converted\"].value_counts()"
      ],
      "metadata": {
        "colab": {
          "base_uri": "https://localhost:8080/"
        },
        "id": "DGhD5a2-6pcM",
        "outputId": "1d5770fa-0b83-4729-91e6-4d20c6fbaf08"
      },
      "execution_count": null,
      "outputs": [
        {
          "output_type": "execute_result",
          "data": {
            "text/plain": [
              "False    573258\n",
              "True      14843\n",
              "Name: converted, dtype: int64"
            ]
          },
          "metadata": {},
          "execution_count": 35
        }
      ]
    },
    {
      "cell_type": "markdown",
      "source": [
        "total ads: Amount of ads seen by person"
      ],
      "metadata": {
        "id": "tQJ3Dl5wLNW4"
      }
    },
    {
      "cell_type": "code",
      "source": [
        "df[\"total ads\"].hist()"
      ],
      "metadata": {
        "colab": {
          "base_uri": "https://localhost:8080/",
          "height": 367
        },
        "id": "miikdyRr_tgX",
        "outputId": "e2c6bd98-7289-410a-9b4f-352ac9ddbe92"
      },
      "execution_count": null,
      "outputs": [
        {
          "output_type": "execute_result",
          "data": {
            "text/plain": [
              "<matplotlib.axes._subplots.AxesSubplot at 0x7f565a0beb50>"
            ]
          },
          "metadata": {},
          "execution_count": 37
        },
        {
          "output_type": "display_data",
          "data": {
            "text/plain": [
              "<Figure size 576x396 with 1 Axes>"
            ],
            "image/png": "[encoded data removed]"
          },
          "metadata": {}
        }
      ]
    },
    {
      "cell_type": "code",
      "source": [
        "df[\"total ads\"].describe()"
      ],
      "metadata": {
        "colab": {
          "base_uri": "https://localhost:8080/"
        },
        "id": "Q2EBvevYIzb_",
        "outputId": "73aff01d-2d87-4b9b-afb1-b4751eb74f60"
      },
      "execution_count": null,
      "outputs": [
        {
          "output_type": "execute_result",
          "data": {
            "text/plain": [
              "count    588101.000000\n",
              "mean         24.820876\n",
              "std          43.715181\n",
              "min           1.000000\n",
              "25%           4.000000\n",
              "50%          13.000000\n",
              "75%          27.000000\n",
              "max        2065.000000\n",
              "Name: total ads, dtype: float64"
            ]
          },
          "metadata": {},
          "execution_count": 39
        }
      ]
    },
    {
      "cell_type": "markdown",
      "source": [
        "most ads day: Day that the person saw the biggest amount of ads"
      ],
      "metadata": {
        "id": "NbtsSHfsMGw9"
      }
    },
    {
      "cell_type": "code",
      "source": [
        "df[\"most ads day\"].hist()"
      ],
      "metadata": {
        "colab": {
          "base_uri": "https://localhost:8080/",
          "height": 367
        },
        "id": "ow2l2OlIJCXh",
        "outputId": "9bb7a8a0-441a-4cc5-e703-4afdd8082113"
      },
      "execution_count": null,
      "outputs": [
        {
          "output_type": "execute_result",
          "data": {
            "text/plain": [
              "<matplotlib.axes._subplots.AxesSubplot at 0x7f565a058b50>"
            ]
          },
          "metadata": {},
          "execution_count": 40
        },
        {
          "output_type": "display_data",
          "data": {
            "text/plain": [
              "<Figure size 576x396 with 1 Axes>"
            ],
            "image/png": "[encoded data removed]"
          },
          "metadata": {}
        }
      ]
    },
    {
      "cell_type": "code",
      "source": [
        "df[\"most ads day\"].value_counts()"
      ],
      "metadata": {
        "colab": {
          "base_uri": "https://localhost:8080/"
        },
        "id": "zrnNuTZlJVDu",
        "outputId": "b8168489-d1ad-4d82-b6be-66f16221393f"
      },
      "execution_count": null,
      "outputs": [
        {
          "output_type": "execute_result",
          "data": {
            "text/plain": [
              "Friday       92608\n",
              "Monday       87073\n",
              "Sunday       85391\n",
              "Thursday     82982\n",
              "Saturday     81660\n",
              "Wednesday    80908\n",
              "Tuesday      77479\n",
              "Name: most ads day, dtype: int64"
            ]
          },
          "metadata": {},
          "execution_count": 43
        }
      ]
    },
    {
      "cell_type": "markdown",
      "source": [
        "most ads hour: Hour of day that the person saw the biggest amount of ads"
      ],
      "metadata": {
        "id": "ZSMzTSQIMIsk"
      }
    },
    {
      "cell_type": "code",
      "source": [
        "df[\"most ads hour\"].value_counts()"
      ],
      "metadata": {
        "colab": {
          "base_uri": "https://localhost:8080/"
        },
        "id": "zJdn_ksYJh6X",
        "outputId": "36bad24b-055d-4e60-f56c-6e30316f5f0d"
      },
      "execution_count": null,
      "outputs": [
        {
          "output_type": "execute_result",
          "data": {
            "text/plain": [
              "13    47655\n",
              "12    47298\n",
              "11    46210\n",
              "14    45648\n",
              "15    44683\n",
              "10    38939\n",
              "16    37567\n",
              "17    34988\n",
              "18    32323\n",
              "9     31004\n",
              "19    30352\n",
              "21    29976\n",
              "20    28923\n",
              "22    26432\n",
              "23    20166\n",
              "8     17627\n",
              "7      6405\n",
              "0      5536\n",
              "2      5333\n",
              "1      4802\n",
              "3      2679\n",
              "6      2068\n",
              "5       765\n",
              "4       722\n",
              "Name: most ads hour, dtype: int64"
            ]
          },
          "metadata": {},
          "execution_count": 44
        }
      ]
    },
    {
      "cell_type": "code",
      "source": [
        "df[\"most ads hour\"].hist()"
      ],
      "metadata": {
        "colab": {
          "base_uri": "https://localhost:8080/",
          "height": 367
        },
        "id": "mnyV-VspKFQY",
        "outputId": "5006fdbb-d4b3-4f23-c7dd-44bc216690f0"
      },
      "execution_count": null,
      "outputs": [
        {
          "output_type": "execute_result",
          "data": {
            "text/plain": [
              "<matplotlib.axes._subplots.AxesSubplot at 0x7f5659f5ae90>"
            ]
          },
          "metadata": {},
          "execution_count": 46
        },
        {
          "output_type": "display_data",
          "data": {
            "text/plain": [
              "<Figure size 576x396 with 1 Axes>"
            ],
            "image/png": "[encoded data removed]"
          },
          "metadata": {}
        }
      ]
    },
    {
      "cell_type": "markdown",
      "source": [
        "# tests for other feature independence\n",
        "\n",
        "now we will test if distributions of total ads, most ads day, most ads hour are the same for both groups."
      ],
      "metadata": {
        "id": "sZFz6wv-Mny3"
      }
    },
    {
      "cell_type": "markdown",
      "source": [
        "## total ads "
      ],
      "metadata": {
        "id": "g2I2dUA9BUXk"
      }
    },
    {
      "cell_type": "code",
      "source": [
        "import numpy as np\n",
        "df[df[\"test group\"] == \"ad\"][\"total ads\"].hist()"
      ],
      "metadata": {
        "colab": {
          "base_uri": "https://localhost:8080/",
          "height": 282
        },
        "id": "gs3h4OEVMnEe",
        "outputId": "edade40c-729c-4cd5-9b45-8089b877f1c5"
      },
      "execution_count": null,
      "outputs": [
        {
          "output_type": "execute_result",
          "data": {
            "text/plain": [
              "<matplotlib.axes._subplots.AxesSubplot at 0x7f35075bf890>"
            ]
          },
          "metadata": {},
          "execution_count": 8
        },
        {
          "output_type": "display_data",
          "data": {
            "text/plain": [
              "<Figure size 432x288 with 1 Axes>"
            ],
            "image/png": "[encoded data removed]"
          },
          "metadata": {
            "needs_background": "light"
          }
        }
      ]
    },
    {
      "cell_type": "code",
      "source": [
        "df[df[\"test group\"] == \"psa\"][\"total ads\"].hist()"
      ],
      "metadata": {
        "colab": {
          "base_uri": "https://localhost:8080/",
          "height": 282
        },
        "id": "gqDwYbiFN_T-",
        "outputId": "4ddd6c80-74f5-4543-98be-8d62b154699e"
      },
      "execution_count": null,
      "outputs": [
        {
          "output_type": "execute_result",
          "data": {
            "text/plain": [
              "<matplotlib.axes._subplots.AxesSubplot at 0x7f5c9d315090>"
            ]
          },
          "metadata": {},
          "execution_count": 10
        },
        {
          "output_type": "display_data",
          "data": {
            "text/plain": [
              "<Figure size 432x288 with 1 Axes>"
            ],
            "image/png": "[encoded data removed]"
          },
          "metadata": {
            "needs_background": "light"
          }
        }
      ]
    },
    {
      "cell_type": "markdown",
      "source": [
        "data is distributed approximately as a exponential distribution. To check if distributions are the same, we will do a hypothesis testing. \n",
        "\n",
        "Proper test must be chosen: \n",
        "\n",
        "because data is not normal non-parametric test will be used. in this case mann-whitney U test.\n",
        "\n",
        "for different test assumptions check https://ai-master.gitbooks.io/hypothesis-testing/content/different-types-of-hypothesis-testing.html\n",
        "\n",
        "we will assume the alpha = 0.05\n",
        "\n"
      ],
      "metadata": {
        "id": "ZZSuN-n7Vtdp"
      }
    },
    {
      "cell_type": "code",
      "source": [
        "from scipy.stats import ttest_ind"
      ],
      "metadata": {
        "id": "zJZdFExdmNBs"
      },
      "execution_count": null,
      "outputs": []
    },
    {
      "cell_type": "code",
      "source": [
        "ttest_ind(np.log(df[df[\"test group\"] == \"ad\"][\"total ads\"]), np.log(df[df[\"test group\"] == \"psa\"][\"total ads\"]), axis=0, equal_var=False)"
      ],
      "metadata": {
        "colab": {
          "base_uri": "https://localhost:8080/"
        },
        "id": "p2htsk6amPRO",
        "outputId": "3c22d7e4-89b1-482c-8f3d-052679404538"
      },
      "execution_count": null,
      "outputs": [
        {
          "output_type": "execute_result",
          "data": {
            "text/plain": [
              "Ttest_indResult(statistic=6.181302508059112, pvalue=6.454111895438287e-10)"
            ]
          },
          "metadata": {},
          "execution_count": 61
        }
      ]
    },
    {
      "cell_type": "code",
      "source": [
        "ttest_ind(df[df[\"test group\"] == \"ad\"][\"total ads\"], df[df[\"test group\"] == \"psa\"][\"total ads\"], axis=0, equal_var=False)"
      ],
      "metadata": {
        "colab": {
          "base_uri": "https://localhost:8080/"
        },
        "id": "tsvTdRKLmko2",
        "outputId": "5561fce2-379d-40d6-fabf-80d85c6406e8"
      },
      "execution_count": null,
      "outputs": [
        {
          "output_type": "execute_result",
          "data": {
            "text/plain": [
              "Ttest_indResult(statistic=0.2179969144923846, pvalue=0.8274332524963001)"
            ]
          },
          "metadata": {},
          "execution_count": 62
        }
      ]
    },
    {
      "cell_type": "code",
      "source": [
        "from scipy.stats import mannwhitneyu"
      ],
      "metadata": {
        "id": "naBEaXKcm2Tq"
      },
      "execution_count": null,
      "outputs": []
    },
    {
      "cell_type": "code",
      "source": [
        "mannwhitneyu(np.log(df[df[\"test group\"] == \"ad\"][\"total ads\"]), np.log(df[df[\"test group\"] == \"psa\"][\"total ads\"]))"
      ],
      "metadata": {
        "colab": {
          "base_uri": "https://localhost:8080/"
        },
        "id": "9TCv2HAWnNd1",
        "outputId": "6a115c57-831b-4703-a1ce-9603e76c923d"
      },
      "execution_count": null,
      "outputs": [
        {
          "output_type": "execute_result",
          "data": {
            "text/plain": [
              "MannwhitneyuResult(statistic=6808288222.0, pvalue=4.6909108547205694e-11)"
            ]
          },
          "metadata": {},
          "execution_count": 64
        }
      ]
    },
    {
      "cell_type": "code",
      "source": [
        "mannwhitneyu(df[df[\"test group\"] == \"ad\"][\"total ads\"], df[df[\"test group\"] == \"psa\"][\"total ads\"])"
      ],
      "metadata": {
        "colab": {
          "base_uri": "https://localhost:8080/"
        },
        "id": "jJICxItrnT_8",
        "outputId": "9921ac02-35e7-46e5-aaf8-ccdbac9c678d"
      },
      "execution_count": null,
      "outputs": [
        {
          "output_type": "execute_result",
          "data": {
            "text/plain": [
              "MannwhitneyuResult(statistic=6472821126.0, pvalue=2.3454554273603025e-11)"
            ]
          },
          "metadata": {},
          "execution_count": 13
        }
      ]
    },
    {
      "cell_type": "markdown",
      "source": [
        "because pvalue < 0.05 we reject null hypothesis that distributions are the same "
      ],
      "metadata": {
        "id": "rU_1aXpbGPRw"
      }
    },
    {
      "cell_type": "markdown",
      "source": [
        "## most ads day "
      ],
      "metadata": {
        "id": "3VTsw5u9Gpjd"
      }
    },
    {
      "cell_type": "code",
      "source": [
        "df[df[\"test group\"] == \"ad\"][\"most ads day\"].hist()"
      ],
      "metadata": {
        "colab": {
          "base_uri": "https://localhost:8080/",
          "height": 282
        },
        "id": "n5UYpuJoGvIy",
        "outputId": "7451373d-2897-4d2d-8a82-6725a09547e3"
      },
      "execution_count": null,
      "outputs": [
        {
          "output_type": "execute_result",
          "data": {
            "text/plain": [
              "<matplotlib.axes._subplots.AxesSubplot at 0x7f5c8e901a10>"
            ]
          },
          "metadata": {},
          "execution_count": 17
        },
        {
          "output_type": "display_data",
          "data": {
            "text/plain": [
              "<Figure size 432x288 with 1 Axes>"
            ],
            "image/png": "[encoded data removed]"
          },
          "metadata": {
            "needs_background": "light"
          }
        }
      ]
    },
    {
      "cell_type": "markdown",
      "source": [
        ""
      ],
      "metadata": {
        "id": "a2Ff6HOJGrLy"
      }
    },
    {
      "cell_type": "code",
      "source": [
        "df[df[\"test group\"] == \"psa\"][\"most ads day\"].hist()"
      ],
      "metadata": {
        "colab": {
          "base_uri": "https://localhost:8080/",
          "height": 282
        },
        "id": "jW1O_LZAGX4w",
        "outputId": "33b96380-e6b6-4de4-a1e3-7fc9ccf9aff3"
      },
      "execution_count": null,
      "outputs": [
        {
          "output_type": "execute_result",
          "data": {
            "text/plain": [
              "<matplotlib.axes._subplots.AxesSubplot at 0x7f5c8e881b10>"
            ]
          },
          "metadata": {},
          "execution_count": 18
        },
        {
          "output_type": "display_data",
          "data": {
            "text/plain": [
              "<Figure size 432x288 with 1 Axes>"
            ],
            "image/png": "[encoded data removed]"
          },
          "metadata": {
            "needs_background": "light"
          }
        }
      ]
    },
    {
      "cell_type": "markdown",
      "source": [
        "most ads day are categorical data, to estimate if distributions are the same we will use chi2 test of independence.\n",
        "\n",
        "https://online.stat.psu.edu/stat200/book/export/html/230#:~:text=The%20chi-square%20%28%20%CF%87%202%29%20test%20of%20independence,%28%20A%29%20%3D%20P%20%28%20A%20%E2%88%A3%20B%29."
      ],
      "metadata": {
        "id": "PRG9xpb6uBT5"
      }
    },
    {
      "cell_type": "markdown",
      "source": [
        "H_0: test group and most ads day are independent (distributions are same);\n",
        "\n",
        "H_a: test group and most ads day are dependent (distributions differ);\n",
        "\n",
        "alpha = 0.05"
      ],
      "metadata": {
        "id": "W5RDbDBsuwV6"
      }
    },
    {
      "cell_type": "code",
      "source": [
        "from scipy.stats import chi2_contingency\n",
        "crosstab = pd.crosstab(df[\"test group\"], df[\"most ads day\"])\n",
        "chi2_contingency(crosstab)"
      ],
      "metadata": {
        "colab": {
          "base_uri": "https://localhost:8080/"
        },
        "id": "VFda9qE8tbIa",
        "outputId": "9563373a-ef6e-4cb4-fbe8-340777f8bf88"
      },
      "execution_count": null,
      "outputs": [
        {
          "output_type": "execute_result",
          "data": {
            "text/plain": [
              "(376.50455427620653,\n",
              " 3.1342900966485243e-78,\n",
              " 6,\n",
              " array([[57909.91236445, 53871.27667542, 48612.95759366, 49273.86028514,\n",
              "         47404.83518096, 47235.27414058, 46876.88375978],\n",
              "        [ 2199.08763555,  2045.72332458,  1846.04240634,  1871.13971486,\n",
              "          1800.16481904,  1793.72585942,  1780.11624022]]))"
            ]
          },
          "metadata": {},
          "execution_count": 5
        }
      ]
    },
    {
      "cell_type": "markdown",
      "source": [
        "because 3.1342900966485243e-78 < 0.05, we reject null hypothesis, as a result we say that test group and most ads day are dependent (distributions differ);"
      ],
      "metadata": {
        "id": "bjGJtbbNvYkl"
      }
    },
    {
      "cell_type": "markdown",
      "source": [
        "## most ads hour "
      ],
      "metadata": {
        "id": "RQhRJp5Nv0Vh"
      }
    },
    {
      "cell_type": "code",
      "source": [
        "from scipy.stats import boxcox\n",
        "from matplotlib.pyplot import hist "
      ],
      "metadata": {
        "id": "zPR3GE07w49P"
      },
      "execution_count": null,
      "outputs": []
    },
    {
      "cell_type": "code",
      "source": [
        "df[df[\"test group\"] == \"ad\"][\"most ads hour\"].dropna().hist()\n"
      ],
      "metadata": {
        "colab": {
          "base_uri": "https://localhost:8080/",
          "height": 282
        },
        "id": "_kq-t2Q4v_rz",
        "outputId": "248b455c-f461-4366-8b97-a075a71dd764"
      },
      "execution_count": null,
      "outputs": [
        {
          "output_type": "execute_result",
          "data": {
            "text/plain": [
              "<matplotlib.axes._subplots.AxesSubplot at 0x7f3504af2590>"
            ]
          },
          "metadata": {},
          "execution_count": 33
        },
        {
          "output_type": "display_data",
          "data": {
            "text/plain": [
              "<Figure size 432x288 with 1 Axes>"
            ],
            "image/png": "[encoded data removed]"
          },
          "metadata": {
            "needs_background": "light"
          }
        }
      ]
    },
    {
      "cell_type": "code",
      "source": [
        "df[df[\"test group\"] == \"psa\"][\"most ads hour\"].hist()"
      ],
      "metadata": {
        "colab": {
          "base_uri": "https://localhost:8080/",
          "height": 283
        },
        "id": "dvNOdMqgv2-h",
        "outputId": "30be2dd6-a505-4f59-87ec-0ebd9f9718bb"
      },
      "execution_count": null,
      "outputs": [
        {
          "output_type": "execute_result",
          "data": {
            "text/plain": [
              "<matplotlib.axes._subplots.AxesSubplot at 0x7f350750f890>"
            ]
          },
          "metadata": {},
          "execution_count": 7
        },
        {
          "output_type": "display_data",
          "data": {
            "text/plain": [
              "<Figure size 432x288 with 1 Axes>"
            ],
            "image/png": "[encoded data removed]"
          },
          "metadata": {
            "needs_background": "light"
          }
        }
      ]
    },
    {
      "cell_type": "code",
      "source": [
        "ttest_ind(df[df[\"test group\"] == \"ad\"][\"most ads hour\"].dropna(), df[df[\"test group\"] == \"psa\"][\"most ads hour\"].dropna(), axis=0, equal_var=False)"
      ],
      "metadata": {
        "colab": {
          "base_uri": "https://localhost:8080/"
        },
        "id": "eTlH6tLywKVv",
        "outputId": "9c1e2cd9-bf01-478b-cb28-ce9d0abdf91b"
      },
      "execution_count": null,
      "outputs": [
        {
          "output_type": "execute_result",
          "data": {
            "text/plain": [
              "Ttest_indResult(statistic=4.000866212444353, pvalue=6.34265022068416e-05)"
            ]
          },
          "metadata": {},
          "execution_count": 39
        }
      ]
    },
    {
      "cell_type": "markdown",
      "source": [
        "pvalue < 0.05, means are different"
      ],
      "metadata": {
        "id": "BMkKC7U6wK_o"
      }
    },
    {
      "cell_type": "code",
      "source": [
        ""
      ],
      "metadata": {
        "id": "-Zjn0R0PwGDP"
      },
      "execution_count": null,
      "outputs": []
    },
    {
      "cell_type": "markdown",
      "source": [
        "## test if  ads improved sales "
      ],
      "metadata": {
        "id": "doI9kKc31BwV"
      }
    },
    {
      "cell_type": "markdown",
      "source": [
        "because values are binary, 2 sample proportion z test will be performed:\n",
        "\n",
        "H_0 p1 = p2\n",
        "H_a p1 < p2\n",
        "\n",
        "this is left tail test "
      ],
      "metadata": {
        "id": "Ot76M7cI-Fir"
      }
    },
    {
      "cell_type": "code",
      "source": [
        "pd.crosstab(df[\"test group\"], df[\"converted\"])"
      ],
      "metadata": {
        "colab": {
          "base_uri": "https://localhost:8080/",
          "height": 143
        },
        "id": "UAehfXNH5b8a",
        "outputId": "cb576eee-2194-443a-d18b-dc54bc7431a5"
      },
      "execution_count": null,
      "outputs": [
        {
          "output_type": "execute_result",
          "data": {
            "text/plain": [
              "converted    False   True\n",
              "test group               \n",
              "ad          338717  12468\n",
              "psa          13007    329"
            ],
            "text/html": [
              "\n",
              "  <div id=\"df-925c4a2b-4a36-42a9-88ca-ae1fd381e76a\">\n",
              "    <div class=\"colab-df-container\">\n",
              "      <div>\n",
              "<style scoped>\n",
              "    .dataframe tbody tr th:only-of-type {\n",
              "        vertical-align: middle;\n",
              "    }\n",
              "\n",
              "    .dataframe tbody tr th {\n",
              "        vertical-align: top;\n",
              "    }\n",
              "\n",
              "    .dataframe thead th {\n",
              "        text-align: right;\n",
              "    }\n",
              "</style>\n",
              "<table border=\"1\" class=\"dataframe\">\n",
              "  <thead>\n",
              "    <tr style=\"text-align: right;\">\n",
              "      <th>converted</th>\n",
              "      <th>False</th>\n",
              "      <th>True</th>\n",
              "    </tr>\n",
              "    <tr>\n",
              "      <th>test group</th>\n",
              "      <th></th>\n",
              "      <th></th>\n",
              "    </tr>\n",
              "  </thead>\n",
              "  <tbody>\n",
              "    <tr>\n",
              "      <th>ad</th>\n",
              "      <td>338717</td>\n",
              "      <td>12468</td>\n",
              "    </tr>\n",
              "    <tr>\n",
              "      <th>psa</th>\n",
              "      <td>13007</td>\n",
              "      <td>329</td>\n",
              "    </tr>\n",
              "  </tbody>\n",
              "</table>\n",
              "</div>\n",
              "      <button class=\"colab-df-convert\" onclick=\"convertToInteractive('df-925c4a2b-4a36-42a9-88ca-ae1fd381e76a')\"\n",
              "              title=\"Convert this dataframe to an interactive table.\"\n",
              "              style=\"display:none;\">\n",
              "        \n",
              "  <svg xmlns=\"http://www.w3.org/2000/svg\" height=\"24px\"viewBox=\"0 0 24 24\"\n",
              "       width=\"24px\">\n",
              "    <path d=\"M0 0h24v24H0V0z\" fill=\"none\"/>\n",
              "    <path d=\"M18.56 5.44l.94 2.06.94-2.06 2.06-.94-2.06-.94-.94-2.06-.94 2.06-2.06.94zm-11 1L8.5 8.5l.94-2.06 2.06-.94-2.06-.94L8.5 2.5l-.94 2.06-2.06.94zm10 10l.94 2.06.94-2.06 2.06-.94-2.06-.94-.94-2.06-.94 2.06-2.06.94z\"/><path d=\"M17.41 7.96l-1.37-1.37c-.4-.4-.92-.59-1.43-.59-.52 0-1.04.2-1.43.59L10.3 9.45l-7.72 7.72c-.78.78-.78 2.05 0 2.83L4 21.41c.39.39.9.59 1.41.59.51 0 1.02-.2 1.41-.59l7.78-7.78 2.81-2.81c.8-.78.8-2.07 0-2.86zM5.41 20L4 18.59l7.72-7.72 1.47 1.35L5.41 20z\"/>\n",
              "  </svg>\n",
              "      </button>\n",
              "      \n",
              "  <style>\n",
              "    .colab-df-container {\n",
              "      display:flex;\n",
              "      flex-wrap:wrap;\n",
              "      gap: 12px;\n",
              "    }\n",
              "\n",
              "    .colab-df-convert {\n",
              "      background-color: #E8F0FE;\n",
              "      border: none;\n",
              "      border-radius: 50%;\n",
              "      cursor: pointer;\n",
              "      display: none;\n",
              "      fill: #1967D2;\n",
              "      height: 32px;\n",
              "      padding: 0 0 0 0;\n",
              "      width: 32px;\n",
              "    }\n",
              "\n",
              "    .colab-df-convert:hover {\n",
              "      background-color: #E2EBFA;\n",
              "      box-shadow: 0px 1px 2px rgba(60, 64, 67, 0.3), 0px 1px 3px 1px rgba(60, 64, 67, 0.15);\n",
              "      fill: #174EA6;\n",
              "    }\n",
              "\n",
              "    [theme=dark] .colab-df-convert {\n",
              "      background-color: #3B4455;\n",
              "      fill: #D2E3FC;\n",
              "    }\n",
              "\n",
              "    [theme=dark] .colab-df-convert:hover {\n",
              "      background-color: #434B5C;\n",
              "      box-shadow: 0px 1px 3px 1px rgba(0, 0, 0, 0.15);\n",
              "      filter: drop-shadow(0px 1px 2px rgba(0, 0, 0, 0.3));\n",
              "      fill: #FFFFFF;\n",
              "    }\n",
              "  </style>\n",
              "\n",
              "      <script>\n",
              "        const buttonEl =\n",
              "          document.querySelector('#df-925c4a2b-4a36-42a9-88ca-ae1fd381e76a button.colab-df-convert');\n",
              "        buttonEl.style.display =\n",
              "          google.colab.kernel.accessAllowed ? 'block' : 'none';\n",
              "\n",
              "        async function convertToInteractive(key) {\n",
              "          const element = document.querySelector('#df-925c4a2b-4a36-42a9-88ca-ae1fd381e76a');\n",
              "          const dataTable =\n",
              "            await google.colab.kernel.invokeFunction('convertToInteractive',\n",
              "                                                     [key], {});\n",
              "          if (!dataTable) return;\n",
              "\n",
              "          const docLinkHtml = 'Like what you see? Visit the ' +\n",
              "            '<a target=\"_blank\" href=https://colab.research.google.com/notebooks/data_table.ipynb>data table notebook</a>'\n",
              "            + ' to learn more about interactive tables.';\n",
              "          element.innerHTML = '';\n",
              "          dataTable['output_type'] = 'display_data';\n",
              "          await google.colab.output.renderOutput(dataTable, element);\n",
              "          const docLink = document.createElement('div');\n",
              "          docLink.innerHTML = docLinkHtml;\n",
              "          element.appendChild(docLink);\n",
              "        }\n",
              "      </script>\n",
              "    </div>\n",
              "  </div>\n",
              "  "
            ]
          },
          "metadata": {},
          "execution_count": 42
        }
      ]
    },
    {
      "cell_type": "code",
      "source": [
        "df[\"test group\"].value_counts()"
      ],
      "metadata": {
        "colab": {
          "base_uri": "https://localhost:8080/"
        },
        "id": "MK1xmtxi7XyC",
        "outputId": "2e0035c9-8fc2-441c-f468-3c7beb28bdfd"
      },
      "execution_count": null,
      "outputs": [
        {
          "output_type": "execute_result",
          "data": {
            "text/plain": [
              "ad     351186\n",
              "psa     13336\n",
              "Name: test group, dtype: int64"
            ]
          },
          "metadata": {},
          "execution_count": 43
        }
      ]
    },
    {
      "cell_type": "code",
      "source": [
        "p1 = 329/13336\n",
        "p2 = 12468/351186\n",
        "p = (329+12468) / (13336 + 351186)\n",
        "n1 = 13336\n",
        "n2 = 351186\n",
        "\n",
        "z = (p1 - p2)/np.sqrt(p*(1-p)*((1/n1)+(1/n2)))\n"
      ],
      "metadata": {
        "id": "PxQPFiw-5-5m"
      },
      "execution_count": null,
      "outputs": []
    },
    {
      "cell_type": "code",
      "source": [
        "import scipy.stats as stats\n",
        "print(stats.norm.cdf(z))"
      ],
      "metadata": {
        "colab": {
          "base_uri": "https://localhost:8080/"
        },
        "id": "QZvKRaQi8XS6",
        "outputId": "a2a1affa-0c22-41f0-977c-f66e4f926a3a"
      },
      "execution_count": null,
      "outputs": [
        {
          "output_type": "stream",
          "name": "stdout",
          "text": [
            "1.2670316186380623e-11\n"
          ]
        }
      ]
    },
    {
      "cell_type": "markdown",
      "source": [
        "1.2670316186380623e-11 < 0.05, reject null hypothesis. \n",
        "ads improved sales "
      ],
      "metadata": {
        "id": "9_fGU3Aw-ohh"
      }
    },
    {
      "cell_type": "markdown",
      "source": [
        "# conclusions \n",
        "\n",
        "2 sample proportion z test shown that ads increased convertion rate. However assumption that data should be sampled independently is not valid. as it can be seen from statistical tests: total ads, most ads day, most ads hour are dependent on test groups."
      ],
      "metadata": {
        "id": "MwaWBpeO-x0k"
      }
    },
    {
      "cell_type": "code",
      "source": [
        ""
      ],
      "metadata": {
        "id": "dofIWxA6-nt9"
      },
      "execution_count": null,
      "outputs": []
    }
  ]
}